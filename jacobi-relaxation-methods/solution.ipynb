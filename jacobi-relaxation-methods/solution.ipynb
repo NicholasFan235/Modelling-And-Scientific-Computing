{
 "cells": [
  {
   "cell_type": "markdown",
   "metadata": {},
   "source": [
    "# Solve Linear System from Finite Differences Poisson Equation in 2D"
   ]
  },
  {
   "cell_type": "code",
   "execution_count": 1,
   "metadata": {},
   "outputs": [],
   "source": [
    "import numpy as np\n",
    "import scipy.sparse as sp\n",
    "import scipy.sparse.linalg\n",
    "import scipy.optimize\n",
    "import matplotlib.pylab as plt"
   ]
  },
  {
   "cell_type": "markdown",
   "metadata": {},
   "source": [
    "## Build Functions"
   ]
  },
  {
   "cell_type": "code",
   "execution_count": 2,
   "metadata": {},
   "outputs": [],
   "source": [
    "def buildA(N):\n",
    "    dx = 1 / N\n",
    "    nvar = (N - 1)**2;\n",
    "    e1 = np.ones((nvar), dtype=float);\n",
    "    e2 = np.copy(e1)\n",
    "    e2[::N-1] = 0\n",
    "    e3 = np.copy(e1)\n",
    "    e3[N-2::N-1] = 0\n",
    "    A = sp.spdiags(\n",
    "        (-e1, -e3, 4*e1, -e2, -e1),\n",
    "        (-(N-1), -1, 0, 1, N-1), nvar, nvar\n",
    "    )\n",
    "    A = A / dx**2;\n",
    "    return A"
   ]
  },
  {
   "cell_type": "code",
   "execution_count": 3,
   "metadata": {},
   "outputs": [],
   "source": [
    "def buildf1(N):\n",
    "    x = np.arange(0, 1, 1/N).reshape(N, 1)\n",
    "    y = x.T\n",
    "    f = np.dot(np.sin(np.pi*x), np.sin(np.pi*y))\n",
    "    return f[1:,1:].reshape(-1,1)"
   ]
  },
  {
   "cell_type": "code",
   "execution_count": 4,
   "metadata": {},
   "outputs": [],
   "source": [
    "def buildf2(N):\n",
    "    x = np.arange(0, 1, 1/N).reshape(N, 1)\n",
    "    y = x.T\n",
    "    f = np.dot(np.maximum(x,1-x), np.maximum(y,1-y))\n",
    "    return f[1:,1:].reshape(-1, 1)"
   ]
  },
  {
   "cell_type": "markdown",
   "metadata": {},
   "source": [
    "## Solve using Jacobi"
   ]
  },
  {
   "cell_type": "code",
   "execution_count": 5,
   "metadata": {},
   "outputs": [],
   "source": [
    "def solve_jacobi(A, b, x0=None, tolerance = 1e-5, max_iterations=100):\n",
    "    if x0 is None:\n",
    "        x = np.zeros_like(b)\n",
    "    else:\n",
    "        x = np.copy(x0)\n",
    "    b_norm = np.linalg.norm(b)\n",
    "    \n",
    "    D = A.diagonal().reshape(-1, 1)\n",
    "    D_inv = 1/D\n",
    "\n",
    "    for i in range(max_iterations):\n",
    "        r = b - A@x\n",
    "\n",
    "        err = np.linalg.norm(r) / b_norm\n",
    "        if (err < tolerance):\n",
    "            break\n",
    "        \n",
    "        x += D_inv * r\n",
    "    return x, i"
   ]
  },
  {
   "cell_type": "code",
   "execution_count": 6,
   "metadata": {},
   "outputs": [
    {
     "data": {
      "image/png": "[encoded data removed]",
      "text/plain": [
       "<Figure size 432x288 with 1 Axes>"
      ]
     },
     "metadata": {
      "needs_background": "light"
     },
     "output_type": "display_data"
    }
   ],
   "source": [
    "reps = 20\n",
    "iterations = np.empty((reps, 2), dtype=int)\n",
    "Ns = np.logspace(0.5, 2, reps, dtype=int)\n",
    "for j, buildf in enumerate([buildf1, buildf2]):\n",
    "    for i, N in enumerate(Ns):\n",
    "        A = buildA(N)\n",
    "        f = buildf(N)\n",
    "        max_iters = 10*N\n",
    "        x, iters = solve_jacobi(A, f, max_iterations=max_iters)\n",
    "        if iters < max_iters:\n",
    "            iterations[i,j] = iters\n",
    "\n",
    "plt.plot(Ns, iterations)\n",
    "plt.xlabel('N')\n",
    "plt.ylabel('Iterations')\n",
    "plt.show()"
   ]
  },
  {
   "cell_type": "markdown",
   "metadata": {},
   "source": [
    "## Solve using SOR Method"
   ]
  },
  {
   "cell_type": "code",
   "execution_count": 7,
   "metadata": {},
   "outputs": [],
   "source": [
    "def SOR(A, b, omega, x0=None, tolerance=1e-5, max_iterations=100):\n",
    "    if x0 is None:\n",
    "        x = np.zeros_like(x0)\n",
    "    else:\n",
    "        x = np.copy(x0)\n",
    "    b_norm = np.linalg.norm(b)\n",
    "\n",
    "    D = sp.spdiags((A.diagonal()), (0), *A.shape)\n",
    "    L = sp.tril(A, k=-1)\n",
    "    M = (1/omega) * D + L\n",
    "\n",
    "    for i in range(max_iterations):\n",
    "        r = b - A@x\n",
    "        err = np.linalg.norm(r) / b_norm\n",
    "        if (err < tolerance):\n",
    "            break\n",
    "        x += scipy.sparse.linalg.spsolve_triangular(M, r)\n",
    "    return x, i"
   ]
  },
  {
   "cell_type": "code",
   "execution_count": 8,
   "metadata": {},
   "outputs": [],
   "source": [
    "N = 64\n",
    "A = buildA(N)\n",
    "f = buildf2(N)"
   ]
  }
 ],
 "metadata": {
  "interpreter": {
   "hash": "31f2aee4e71d21fbe5cf8b01ff0e069b9275f58929596ceb00d14d90e3e16cd6"
  },
  "kernelspec": {
   "display_name": "Python 3.8.10 64-bit",
   "language": "python",
   "name": "python3"
  },
  "language_info": {
   "codemirror_mode": {
    "name": "ipython",
    "version": 3
   },
   "file_extension": ".py",
   "mimetype": "text/x-python",
   "name": "python",
   "nbconvert_exporter": "python",
   "pygments_lexer": "ipython3",
   "version": "3.8.10"
  },
  "orig_nbformat": 4
 },
 "nbformat": 4,
 "nbformat_minor": 2
}
